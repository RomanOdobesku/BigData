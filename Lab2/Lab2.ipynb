{
 "cells": [
  {
   "cell_type": "markdown",
   "id": "1f8bc027",
   "metadata": {},
   "source": [
    "# Одобеску 6132 ЛР №2"
   ]
  },
  {
   "cell_type": "code",
   "execution_count": 1,
   "id": "33419f49",
   "metadata": {},
   "outputs": [],
   "source": [
    "from datetime import datetime\n",
    "from pyspark.sql.functions import col\n",
    "from pyspark.sql.types import StructType, StructField, StringType, DateType"
   ]
  },
  {
   "cell_type": "code",
   "execution_count": 2,
   "id": "aba23922",
   "metadata": {},
   "outputs": [
    {
     "name": "stderr",
     "output_type": "stream",
     "text": [
      "/usr/local/lib/python3.6/dist-packages/pyspark/context.py:238: FutureWarning: Python 3.6 support is deprecated in Spark 3.2.\n",
      "  FutureWarning\n"
     ]
    },
    {
     "data": {
      "text/html": [
       "\n",
       "            <div>\n",
       "                <p><b>SparkSession - in-memory</b></p>\n",
       "                \n",
       "        <div>\n",
       "            <p><b>SparkContext</b></p>\n",
       "\n",
       "            <p><a href=\"http://maprdemo.mapr.io:4040\">Spark UI</a></p>\n",
       "\n",
       "            <dl>\n",
       "              <dt>Version</dt>\n",
       "                <dd><code>v3.2.2</code></dd>\n",
       "              <dt>Master</dt>\n",
       "                <dd><code>local[*]</code></dd>\n",
       "              <dt>AppName</dt>\n",
       "                <dd><code>Lab2</code></dd>\n",
       "            </dl>\n",
       "        </div>\n",
       "        \n",
       "            </div>\n",
       "        "
      ],
      "text/plain": [
       "<pyspark.sql.session.SparkSession at 0x7f7b0369fbe0>"
      ]
     },
     "execution_count": 2,
     "metadata": {},
     "output_type": "execute_result"
    }
   ],
   "source": [
    "from pyspark.sql import SparkSession\n",
    "import os\n",
    "\n",
    "# нужно для чтения xml\n",
    "os.environ['PYSPARK_SUBMIT_ARGS'] = '--packages com.databricks:spark-xml_2.12:0.13.0 pyspark-shell'\n",
    "\n",
    "spark_session = SparkSession.builder.appName(\"Lab2\").getOrCreate()\n",
    "sc = spark_session._sc\n",
    "spark_session"
   ]
  },
  {
   "cell_type": "markdown",
   "id": "96fbc6d2",
   "metadata": {},
   "source": [
    "Посмотрим, что находится в файле programming-languages.csv"
   ]
  },
  {
   "cell_type": "code",
   "execution_count": 3,
   "id": "5efa3074",
   "metadata": {},
   "outputs": [
    {
     "name": "stdout",
     "output_type": "stream",
     "text": [
      "name,wikipedia_url\r\n",
      "A# .NET,https://en.wikipedia.org/wiki/A_Sharp_(.NET)\r\n",
      "A# (Axiom),https://en.wikipedia.org/wiki/A_Sharp_(Axiom)\r\n",
      "A-0 System,https://en.wikipedia.org/wiki/A-0_System\r\n",
      "A+,https://en.wikipedia.org/wiki/A%2B_(programming_language)\r\n",
      "A++,https://en.wikipedia.org/wiki/A%2B%2B\r\n",
      "ABAP,https://en.wikipedia.org/wiki/ABAP\r\n",
      "ABC,https://en.wikipedia.org/wiki/ABC_(programming_language)\r\n",
      "ABC ALGOL,https://en.wikipedia.org/wiki/ABC_ALGOL\r\n",
      "ABSET,https://en.wikipedia.org/wiki/ABSET\r\n"
     ]
    }
   ],
   "source": [
    "!head /mnt/data/programming-languages.csv"
   ]
  },
  {
   "cell_type": "markdown",
   "id": "9502d5c4",
   "metadata": {},
   "source": [
    "Прочитаем programming-languages.csv и загрузим его в датафрейм"
   ]
  },
  {
   "cell_type": "code",
   "execution_count": 4,
   "id": "3e77cbec",
   "metadata": {},
   "outputs": [
    {
     "data": {
      "text/plain": [
       "[Row(Language='name', Url='wikipedia_url'),\n",
       " Row(Language='A# .NET', Url='https://en.wikipedia.org/wiki/A_Sharp_(.NET)')]"
      ]
     },
     "execution_count": 4,
     "metadata": {},
     "output_type": "execute_result"
    }
   ],
   "source": [
    "struct_type = StructType([StructField(\"Language\", StringType(), False),StructField(\"Url\", StringType(), False)])\n",
    "\n",
    "df = spark_session.read.csv(\"/mnt/data/programming-languages.csv\", schema=struct_type)\n",
    "df.head(2)"
   ]
  },
  {
   "cell_type": "code",
   "execution_count": 5,
   "id": "6c1d233a",
   "metadata": {},
   "outputs": [
    {
     "name": "stdout",
     "output_type": "stream",
     "text": [
      "['A# .NET', 'A# (Axiom)', 'A-0 System', 'A+', 'A++', 'ABAP', 'ABC', 'ABC ALGOL', 'ABSET', 'ABSYS']\n"
     ]
    }
   ],
   "source": [
    "lang_list = [str(row[0]) for row in df.select('Language').collect()][1:]\n",
    "print(lang_list[:10])"
   ]
  },
  {
   "cell_type": "markdown",
   "id": "0d438dfb",
   "metadata": {},
   "source": [
    "Посмотрим, что из себя представляет posts_sample.xml"
   ]
  },
  {
   "cell_type": "code",
   "execution_count": 6,
   "id": "73f8e84d",
   "metadata": {},
   "outputs": [
    {
     "name": "stdout",
     "output_type": "stream",
     "text": [
      "���<?xml version=\"1.0\" encoding=\"utf-8\"?>\r\n",
      "<posts>\r\n",
      "  <row Id=\"4\" PostTypeId=\"1\" AcceptedAnswerId=\"7\" CreationDate=\"2008-07-31T21:42:52.667\" Score=\"630\" ViewCount=\"42817\" Body=\"&lt;p&gt;I want to use a track-bar to change a form's opacity.&lt;/p&gt;&#xA;&#xA;&lt;p&gt;This is my code:&lt;/p&gt;&#xA;&#xA;&lt;pre&gt;&lt;code&gt;decimal trans = trackBar1.Value / 5000;&#xA;this.Opacity = trans;&#xA;&lt;/code&gt;&lt;/pre&gt;&#xA;&#xA;&lt;p&gt;When I build the application, it gives the following error:&lt;/p&gt;&#xA;&#xA;&lt;blockquote&gt;&#xA;  &lt;p&gt;Cannot implicitly convert type &lt;code&gt;'decimal'&lt;/code&gt; to &lt;code&gt;'double'&lt;/code&gt;&lt;/p&gt;&#xA;&lt;/blockquote&gt;&#xA;&#xA;&lt;p&gt;I tried using &lt;code&gt;trans&lt;/code&gt; and &lt;code&gt;double&lt;/code&gt; but then the control doesn't work. This code worked fine in a past VB.NET project.&lt;/p&gt;&#xA;\" OwnerUserId=\"8\" LastEditorUserId=\"3641067\" LastEditorDisplayName=\"Rich B\" LastEditDate=\"2019-07-19T01:39:54.173\" LastActivityDate=\"2019-07-19T01:39:54.173\" Title=\"Convert Decimal to Double?\" Tags=\"&lt;c#&gt;&lt;floating-point&gt;&lt;type-conversion&gt;&lt;double&gt;&lt;decimal&gt;\" AnswerCount=\"13\" CommentCount=\"2\" FavoriteCount=\"48\" CommunityOwnedDate=\"2012-10-31T16:42:47.213\" />\r\n"
     ]
    }
   ],
   "source": [
    "!head -n 3 /mnt/data/posts_sample.xml"
   ]
  },
  {
   "cell_type": "markdown",
   "id": "6700fdd9",
   "metadata": {},
   "source": [
    "Прочитаем posts_sample.xml, поместим его в DataFrame и выведем что-нибудь из него"
   ]
  },
  {
   "cell_type": "code",
   "execution_count": 7,
   "id": "450e5f14",
   "metadata": {},
   "outputs": [
    {
     "name": "stdout",
     "output_type": "stream",
     "text": [
      "[Row(_AcceptedAnswerId=7, _AnswerCount=13, _Body=\"<p>I want to use a track-bar to change a form's opacity.</p>\\n\\n<p>This is my code:</p>\\n\\n<pre><code>decimal trans = trackBar1.Value / 5000;\\nthis.Opacity = trans;\\n</code></pre>\\n\\n<p>When I build the application, it gives the following error:</p>\\n\\n<blockquote>\\n  <p>Cannot implicitly convert type <code>'decimal'</code> to <code>'double'</code></p>\\n</blockquote>\\n\\n<p>I tried using <code>trans</code> and <code>double</code> but then the control doesn't work. This code worked fine in a past VB.NET project.</p>\\n\", _ClosedDate=None, _CommentCount=2, _CommunityOwnedDate=datetime.datetime(2012, 10, 31, 16, 42, 47, 213000), _CreationDate=datetime.datetime(2008, 7, 31, 21, 42, 52, 667000), _FavoriteCount=48, _Id=4, _LastActivityDate=datetime.datetime(2019, 7, 19, 1, 39, 54, 173000), _LastEditDate=datetime.datetime(2019, 7, 19, 1, 39, 54, 173000), _LastEditorDisplayName='Rich B', _LastEditorUserId=3641067, _OwnerDisplayName=None, _OwnerUserId=8, _ParentId=None, _PostTypeId=1, _Score=630, _Tags='<c#><floating-point><type-conversion><double><decimal>', _Title='Convert Decimal to Double?', _ViewCount=42817)]\n"
     ]
    }
   ],
   "source": [
    "posts_df = spark_session.read.format(\"xml\").options(rowTag=\"row\").load('/mnt/data/posts_sample.xml')\n",
    "print(posts_df.take(1))"
   ]
  },
  {
   "cell_type": "markdown",
   "id": "ce01c25b",
   "metadata": {},
   "source": [
    "Видим, что среди всего прочего в этом объекте есть поле _Tags, в котором может содержаться информация о языке, который относится к посту. Будем считать, что популярность языка напрямую зависит от числа постов, в которых присутствует его тег."
   ]
  },
  {
   "cell_type": "markdown",
   "id": "000388d3",
   "metadata": {},
   "source": [
    "Напишем вспомогательные функции:   \n",
    "* Первая определяет, есть ли тэг какого-либо языка из списка среди тэгов к посту, если есть вернёт информацию о нём в формате (row._Id, tag, row._CreationDate.year), иначе вернёт None.   \n",
    "* Вторая проверяет, что пост находится между 2010 и 2020 годом"
   ]
  },
  {
   "cell_type": "code",
   "execution_count": 8,
   "id": "cfc6674d",
   "metadata": {},
   "outputs": [],
   "source": [
    "def get_correct_posts(row):\n",
    "    tag = None\n",
    "    for lang in lang_list:\n",
    "        if '<' + lang.upper() + '>' in row._Tags.upper():\n",
    "            tag = lang\n",
    "            break\n",
    "    if tag is None: \n",
    "        return None  # такие строки мы потом отфильтруем\n",
    "    return (row._Id, tag, row._CreationDate.year)\n",
    "\n",
    "def date_in_range(row):\n",
    "    left = datetime(year=2010, month=1, day=1)\n",
    "    right = datetime(year=2019, month=12, day=31)\n",
    "    return row._CreationDate > left and row._CreationDate < right"
   ]
  },
  {
   "cell_type": "markdown",
   "id": "b7c9c59f",
   "metadata": {},
   "source": [
    "Чтобы получить количество постов по каждому языку по годам, нужно выполнить ряд операций:\n",
    "1. Проверяем, что тэг поста не None и что пост подходит нам по времени\n",
    "2. С помощью get_correct_posts оставляем только информацию ((row._Id, tag, row._CreationDate.year)) о тех постах, в которых содержатся только тэги с языками\n",
    "3. Удаляем те строки, где был возвращён None из предыдущей функции\n",
    "4. В качестве ключа выбираем год создания поста и язык \n",
    "5. Считаем количество постов для пар (год, язык)\n",
    "6. Ставим на первое место год, на второе - язык и на третье - количество постов\n",
    "7. Преобразуем в датафрейм, указываем названия столбцов"
   ]
  },
  {
   "cell_type": "code",
   "execution_count": 9,
   "id": "a0ab535e",
   "metadata": {},
   "outputs": [
    {
     "name": "stdout",
     "output_type": "stream",
     "text": [
      "+----+------------+-----+\n",
      "|Year|    Language|Posts|\n",
      "+----+------------+-----+\n",
      "|2010|      Python|   25|\n",
      "|2010|  JavaScript|   44|\n",
      "|2010|           R|    3|\n",
      "|2011| Objective-C|   33|\n",
      "|2011|  JavaScript|   82|\n",
      "|2013|  JavaScript|  196|\n",
      "|2013|      Python|   87|\n",
      "|2013|ActionScript|    1|\n",
      "|2014|  JavaScript|  235|\n",
      "|2014|      Python|  103|\n",
      "|2014|         AWK|    5|\n",
      "|2016|         PHP|  126|\n",
      "|2016|  PowerShell|   11|\n",
      "|2016|        Curl|    5|\n",
      "|2016|       Scala|   16|\n",
      "|2019|  JavaScript|  131|\n",
      "|2019|          Go|    9|\n",
      "|2019|        Curl|    3|\n",
      "|2019|       Scala|    6|\n",
      "|2015|      Python|  119|\n",
      "+----+------------+-----+\n",
      "only showing top 20 rows\n",
      "\n"
     ]
    }
   ],
   "source": [
    "langs_by_years = posts_df.rdd.filter(lambda row: row._Tags is not None and date_in_range(row))\\\n",
    "    .map(get_correct_posts)\\\n",
    "    .filter(lambda row: row is not None)\\\n",
    "    .keyBy(lambda row: (row[2], row[1]))\\\n",
    "    .aggregateByKey(0, lambda acc, value: acc + 1, lambda acc1, acc2: acc1 + acc2,)\\\n",
    "    .map(lambda row: (row[0][0], row[0][1], row[1]))\\\n",
    "    .toDF(('Year', 'Language', 'Posts'))\n",
    "langs_by_years.show()  "
   ]
  },
  {
   "cell_type": "markdown",
   "id": "e3d62f3c",
   "metadata": {},
   "source": [
    "Сохраним в папке Reports"
   ]
  },
  {
   "cell_type": "code",
   "execution_count": 10,
   "id": "e797e372",
   "metadata": {},
   "outputs": [],
   "source": [
    "path = \"Reports/\""
   ]
  },
  {
   "cell_type": "code",
   "execution_count": 11,
   "id": "08f32eea",
   "metadata": {},
   "outputs": [],
   "source": [
    "langs_by_years.write.mode(\"overwrite\").parquet(path + \"langs_by_years.parquet\")"
   ]
  },
  {
   "cell_type": "markdown",
   "id": "c0f450b9",
   "metadata": {},
   "source": [
    "Сохраним теперь отдельно таблицы по годам, запросы выполним через SQL"
   ]
  },
  {
   "cell_type": "code",
   "execution_count": 12,
   "id": "6a464fd2",
   "metadata": {
    "scrolled": false
   },
   "outputs": [
    {
     "name": "stdout",
     "output_type": "stream",
     "text": [
      "2010\n",
      "+-----------+-----+\n",
      "|   Language|Posts|\n",
      "+-----------+-----+\n",
      "|       Java|   52|\n",
      "| JavaScript|   44|\n",
      "|        PHP|   42|\n",
      "|     Python|   25|\n",
      "|Objective-C|   23|\n",
      "|          C|   20|\n",
      "|       Ruby|   11|\n",
      "|     Delphi|    7|\n",
      "|       Bash|    3|\n",
      "|AppleScript|    3|\n",
      "+-----------+-----+\n",
      "\n",
      "------------------\n",
      "2011\n",
      "+-----------+-----+\n",
      "|   Language|Posts|\n",
      "+-----------+-----+\n",
      "|        PHP|   97|\n",
      "|       Java|   92|\n",
      "| JavaScript|   82|\n",
      "|     Python|   35|\n",
      "|Objective-C|   33|\n",
      "|          C|   24|\n",
      "|       Ruby|   17|\n",
      "|     Delphi|    8|\n",
      "|       Perl|    8|\n",
      "|       Bash|    7|\n",
      "+-----------+-----+\n",
      "\n",
      "------------------\n",
      "2012\n",
      "+-----------+-----+\n",
      "|   Language|Posts|\n",
      "+-----------+-----+\n",
      "|        PHP|  136|\n",
      "| JavaScript|  129|\n",
      "|       Java|  124|\n",
      "|     Python|   65|\n",
      "|Objective-C|   45|\n",
      "|          C|   27|\n",
      "|       Ruby|   25|\n",
      "|       Bash|    9|\n",
      "|          R|    9|\n",
      "|        Lua|    6|\n",
      "+-----------+-----+\n",
      "\n",
      "------------------\n",
      "2013\n",
      "+-----------+-----+\n",
      "|   Language|Posts|\n",
      "+-----------+-----+\n",
      "| JavaScript|  196|\n",
      "|       Java|  191|\n",
      "|        PHP|  173|\n",
      "|     Python|   87|\n",
      "|Objective-C|   40|\n",
      "|          C|   36|\n",
      "|       Ruby|   30|\n",
      "|          R|   25|\n",
      "|       Bash|   11|\n",
      "|      Scala|   10|\n",
      "+-----------+-----+\n",
      "\n",
      "------------------\n",
      "2014\n",
      "+-----------+-----+\n",
      "|   Language|Posts|\n",
      "+-----------+-----+\n",
      "| JavaScript|  235|\n",
      "|       Java|  228|\n",
      "|        PHP|  154|\n",
      "|     Python|  103|\n",
      "|          C|   52|\n",
      "|Objective-C|   49|\n",
      "|          R|   28|\n",
      "|       Ruby|   20|\n",
      "|     MATLAB|   16|\n",
      "|       Bash|   13|\n",
      "+-----------+-----+\n",
      "\n",
      "------------------\n",
      "2015\n",
      "+-----------+-----+\n",
      "|   Language|Posts|\n",
      "+-----------+-----+\n",
      "| JavaScript|  270|\n",
      "|       Java|  208|\n",
      "|        PHP|  147|\n",
      "|     Python|  119|\n",
      "|          R|   43|\n",
      "|          C|   38|\n",
      "|Objective-C|   30|\n",
      "|       Ruby|   21|\n",
      "|     MATLAB|   16|\n",
      "|      Scala|   13|\n",
      "+-----------+-----+\n",
      "\n",
      "------------------\n",
      "2016\n",
      "+----------+-----+\n",
      "|  Language|Posts|\n",
      "+----------+-----+\n",
      "|JavaScript|  272|\n",
      "|      Java|  179|\n",
      "|    Python|  141|\n",
      "|       PHP|  126|\n",
      "|         R|   50|\n",
      "|         C|   32|\n",
      "|      Ruby|   21|\n",
      "|     Scala|   16|\n",
      "|      Bash|   16|\n",
      "|    MATLAB|   15|\n",
      "+----------+-----+\n",
      "\n",
      "------------------\n",
      "2017\n",
      "+-----------+-----+\n",
      "|   Language|Posts|\n",
      "+-----------+-----+\n",
      "| JavaScript|  244|\n",
      "|       Java|  204|\n",
      "|     Python|  185|\n",
      "|        PHP|  122|\n",
      "|          R|   53|\n",
      "|          C|   24|\n",
      "|Objective-C|   19|\n",
      "|       Ruby|   16|\n",
      "| TypeScript|   14|\n",
      "| PowerShell|   14|\n",
      "+-----------+-----+\n",
      "\n",
      "------------------\n",
      "2018\n",
      "+----------+-----+\n",
      "|  Language|Posts|\n",
      "+----------+-----+\n",
      "|    Python|  214|\n",
      "|JavaScript|  196|\n",
      "|      Java|  145|\n",
      "|       PHP|   99|\n",
      "|         R|   63|\n",
      "|         C|   24|\n",
      "|     Scala|   22|\n",
      "|TypeScript|   21|\n",
      "|PowerShell|   13|\n",
      "|      Bash|   12|\n",
      "+----------+-----+\n",
      "\n",
      "------------------\n",
      "2019\n",
      "+----------+-----+\n",
      "|  Language|Posts|\n",
      "+----------+-----+\n",
      "|    Python|  162|\n",
      "|JavaScript|  131|\n",
      "|      Java|   95|\n",
      "|       PHP|   59|\n",
      "|         R|   36|\n",
      "|         C|   14|\n",
      "|    MATLAB|    9|\n",
      "|        Go|    9|\n",
      "|      Dart|    9|\n",
      "|      Bash|    8|\n",
      "+----------+-----+\n",
      "\n",
      "------------------\n"
     ]
    }
   ],
   "source": [
    "folder_save_name = \"Top_10_programming_languages_in_the_last_10_years\"\n",
    "\n",
    "parquet_df = spark_session.read.parquet(path + \"langs_by_years.parquet\")\n",
    "parquet_df.createOrReplaceTempView(\"parquet_df\")\n",
    "\n",
    "for year in range(2010, 2020):\n",
    "    print(year)\n",
    "    top_10 = spark_session.sql(\n",
    "        \"SELECT Language, Posts \"\n",
    "        \"FROM parquet_df \"\n",
    "        f\"WHERE Year = {year} \"\n",
    "        \"ORDER BY Posts DESC LIMIT 10 \"\n",
    "    )\n",
    "    top_10.write.mode(\"overwrite\").parquet(f\"{path}{folder_save_name}/top_10_{year}.parquet\")\n",
    "    top_10.show()\n",
    "    print('------------------')"
   ]
  },
  {
   "cell_type": "code",
   "execution_count": null,
   "id": "684dc6f3",
   "metadata": {},
   "outputs": [],
   "source": []
  }
 ],
 "metadata": {
  "kernelspec": {
   "display_name": "Python 3",
   "language": "python",
   "name": "python3"
  },
  "language_info": {
   "codemirror_mode": {
    "name": "ipython",
    "version": 3
   },
   "file_extension": ".py",
   "mimetype": "text/x-python",
   "name": "python",
   "nbconvert_exporter": "python",
   "pygments_lexer": "ipython3",
   "version": "3.6.9"
  }
 },
 "nbformat": 4,
 "nbformat_minor": 5
}
